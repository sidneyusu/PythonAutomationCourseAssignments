{
 "cells": [
  {
   "cell_type": "markdown",
   "metadata": {},
   "source": [
    "# Week 1 - Homework: How do we use Strings, Lists and Dictionaries?\n",
    "\n",
    "**Instructions:**\n",
    "- There are 5 problem statements given.\n",
    "- You are required to write a pseudo code and a python\n",
    "program for each of the following problems.\n",
    "- You can use an online python interpreter/ Python IDE/ Python\n",
    "interpreter downloaded and installed in your machine to run\n",
    "the python code.\n",
    "\n",
    "**Problem Statement**\n",
    "1. Write a Python program which accepts a sequence of comma­separated\n",
    "numbers from user and generate a list and a tuple with those numbers.\n",
    "2. Write a Python program to accept a filename from the user and print the\n",
    "extension of that.\n",
    "3. Write a Python program that accepts an integer (n) and computes the\n",
    "value of n+nn+nnn.\n",
    "4. Write a Python program to concatenate all elements in a list into a string\n",
    "and return it.\n",
    "5. Write a Python program to sum all the items in a dictionary.\n",
    "\n",
    "**Solutions**\n",
    "\n",
    "**Problem 1:** Write a Python program which accepts a sequence of comma­separated\n",
    "numbers from user and generate a list and a tuple with those numbers.\n",
    "\n",
    "**Pseudocode**"
   ]
  },
  {
   "cell_type": "raw",
   "metadata": {},
   "source": [
    "def ListAndTuple:\n",
    "    PARAMETER: None\n",
    "    ask the user to type a sequence of numbers separated by comma and store the input to a variable sequence\n",
    "    separate the sequence of numbers based on comma using string method split\n",
    "    convert the separated result into list and assign the value to variable num_list\n",
    "    print num_list\n",
    "    separate the sequence of numbers based on comma using string method split\n",
    "    convert the separated result into tuple and assign the value to variable num_tuple\n",
    "    print num_tuple\n",
    "end function   "
   ]
  },
  {
   "cell_type": "code",
   "execution_count": 2,
   "metadata": {},
   "outputs": [
    {
     "name": "stdout",
     "output_type": "stream",
     "text": [
      "Type in a sequence of comma-separated numbers: 1,2,3,4,5,6,7,8,9,10\n",
      "['1', '2', '3', '4', '5', '6', '7', '8', '9', '10']\n",
      "('1', '2', '3', '4', '5', '6', '7', '8', '9', '10')\n"
     ]
    }
   ],
   "source": [
    "num_seq = '1,2,3,4,5,6,7,8,9,10'\n",
    "\n",
    "def ListAndTuple():\n",
    "    sequence = input('Type in a sequence of comma-separated numbers: ')\n",
    "    num_list = list(sequence.split(','))\n",
    "    print(num_list)\n",
    "    num_tuple = tuple(sequence.split(','))\n",
    "    print(num_tuple)\n",
    "    \n",
    "ListAndTuple()"
   ]
  },
  {
   "cell_type": "markdown",
   "metadata": {},
   "source": [
    "**Python Program**"
   ]
  },
  {
   "cell_type": "markdown",
   "metadata": {},
   "source": [
    "**Problem 2:** Write a Python program to accept a filename from the user and print the\n",
    "extension of that.\n",
    "\n",
    "**Pseudocode**"
   ]
  },
  {
   "cell_type": "raw",
   "metadata": {},
   "source": [
    "def FileType:\n",
    "    PARAMETER: None\n",
    "    ask the user to type a filename and store the input to a variable filename\n",
    "    split the parts of the filename based on the period(.) using split method\n",
    "    assign the result of the split method to a variable file_parts\n",
    "    print the last part of file_parts which corresponds to the extension of the filename\n",
    "end function"
   ]
  },
  {
   "cell_type": "markdown",
   "metadata": {},
   "source": [
    "**Python Program**"
   ]
  },
  {
   "cell_type": "code",
   "execution_count": 5,
   "metadata": {},
   "outputs": [
    {
     "name": "stdout",
     "output_type": "stream",
     "text": [
      "Type in a filename: sampleFile.txt\n",
      "txt\n"
     ]
    }
   ],
   "source": [
    "filename = 'sampleFile.txt'\n",
    "\n",
    "def FileType():\n",
    "    filename = input('Type in a filename: ')\n",
    "    file_parts = filename.split('.')\n",
    "    print(file_parts[-1]) \n",
    "\n",
    "FileType()"
   ]
  },
  {
   "cell_type": "markdown",
   "metadata": {},
   "source": [
    "**Problem 3:** Write a Python program that accepts an integer (n) and computes the\n",
    "value of n+nn+nnn.\n",
    "\n",
    "**Pseudocode**"
   ]
  },
  {
   "cell_type": "raw",
   "metadata": {},
   "source": [
    "def ComputeN:\n",
    "    PARAMETER: Integer (n)\n",
    "    calculate the expression n+nn+nnn and return the result \n",
    "end function"
   ]
  },
  {
   "cell_type": "markdown",
   "metadata": {},
   "source": [
    "**Python Program**"
   ]
  },
  {
   "cell_type": "code",
   "execution_count": 21,
   "metadata": {},
   "outputs": [
    {
     "data": {
      "text/plain": [
       "14"
      ]
     },
     "execution_count": 21,
     "metadata": {},
     "output_type": "execute_result"
    }
   ],
   "source": [
    "int_n = 2\n",
    "\n",
    "def ComputeN(n):\n",
    "    return n + n*n + n*n*n\n",
    "\n",
    "ComputeN(int_n)"
   ]
  },
  {
   "cell_type": "markdown",
   "metadata": {},
   "source": [
    "**Problem 4:** Write a Python program to concatenate all elements in a list into a string\n",
    "and return it.\n",
    "\n",
    "**Pseudocode**"
   ]
  },
  {
   "cell_type": "raw",
   "metadata": {},
   "source": [
    "def Concat:\n",
    "    PARAMETER: list\n",
    "    declare a variable string_result and initialize as an empty string\n",
    "    for each value in the list:\n",
    "        concatenate each values to the values in the variable string_result\n",
    "    end for-loop\n",
    "    return string_result\n",
    "end function"
   ]
  },
  {
   "cell_type": "markdown",
   "metadata": {},
   "source": [
    "**Python Program**"
   ]
  },
  {
   "cell_type": "code",
   "execution_count": 12,
   "metadata": {},
   "outputs": [
    {
     "data": {
      "text/plain": [
       "'1234567RANDOM910.0000001'"
      ]
     },
     "execution_count": 12,
     "metadata": {},
     "output_type": "execute_result"
    }
   ],
   "source": [
    "sample = ['1', '2', 3, 4, '5', '6', '7', 'RANDOM', '9', '10.0000001']\n",
    "\n",
    "def Concat(list_sample):\n",
    "    string_result = ''\n",
    "    for index, value in enumerate(list_sample):\n",
    "        string_result += str(value)\n",
    "    return string_result\n",
    "\n",
    "Concat(sample)"
   ]
  },
  {
   "cell_type": "markdown",
   "metadata": {},
   "source": [
    "**Problem 5:** Write a Python program to sum all the items in a dictionary.\n",
    "\n",
    "**Pseudocode**"
   ]
  },
  {
   "cell_type": "raw",
   "metadata": {},
   "source": [
    "def Sum_Dict:\n",
    "    PARAMETER: A dictionary with integer or float type values\n",
    "    initialize a variable sum with value 0\n",
    "    for each values in the dictionary:\n",
    "        add all the values and put the result in the variable sum\n",
    "    end for-loop\n",
    "    return variable sum\n",
    "end function"
   ]
  },
  {
   "cell_type": "markdown",
   "metadata": {},
   "source": [
    "**Python Program**"
   ]
  },
  {
   "cell_type": "code",
   "execution_count": 15,
   "metadata": {},
   "outputs": [
    {
     "data": {
      "text/plain": [
       "3"
      ]
     },
     "execution_count": 15,
     "metadata": {},
     "output_type": "execute_result"
    }
   ],
   "source": [
    "dict = {'zero':0, 'one':1, 'two':2}\n",
    "\n",
    "def Sum_Dict(dictionary):\n",
    "    sum = 0\n",
    "    for values, index in enumerate(dictionary):\n",
    "        sum += values\n",
    "    return sum\n",
    "        \n",
    "Sum_Dict(dict)"
   ]
  }
 ],
 "metadata": {
  "kernelspec": {
   "display_name": "Python 3",
   "language": "python",
   "name": "python3"
  },
  "language_info": {
   "codemirror_mode": {
    "name": "ipython",
    "version": 3
   },
   "file_extension": ".py",
   "mimetype": "text/x-python",
   "name": "python",
   "nbconvert_exporter": "python",
   "pygments_lexer": "ipython3",
   "version": "3.8.5"
  }
 },
 "nbformat": 4,
 "nbformat_minor": 4
}
